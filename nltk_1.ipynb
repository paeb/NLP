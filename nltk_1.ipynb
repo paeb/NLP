{
 "cells": [
  {
   "cell_type": "code",
   "execution_count": null,
   "source": [
    "import nltk\n",
    "\n",
    "# nltk.download() # browse the available packages\n",
    "\n",
    "from nltk.book import * # import the book module, which contains the example texts"
   ],
   "outputs": [],
   "metadata": {}
  },
  {
   "cell_type": "code",
   "execution_count": null,
   "source": [
    "def additional_functions(text):\n",
    "    # show the lines that contain the specified word\n",
    "    text.concordance(\"light\")\n",
    "\n",
    "    # find the words that appear in similar contexts as the specified word\n",
    "    text.similar(\"light\")\n",
    "\n",
    "    # find the common contexts that contain specified words\n",
    "    text.common_contexts([\"God\",\"land\"])\n",
    "\n",
    "    # shows how often a certain word occurs\n",
    "    text.dispersion_plot([\"Jesus\"])\n",
    "\n",
    "    len(text) # number of words in text\n",
    "    len(set(text)) # unique words\n",
    "\n",
    "    text.count(\"God\") / len(text) * 100.0\n",
    "\n",
    "text = text3\n",
    "# sent3\n",
    "\n",
    "fdist = FreqDist(text) # frequency distribution, stored as a dictionary\n",
    "vocab = set(text)\n",
    "\n",
    "frequent_long_words = [word for word in vocab if len(word) > 10 and fdist[word] > 5]\n",
    "print(frequent_long_words)\n",
    "\n",
    "collocations = text.collocations()\n",
    "fdist = FreqDist(len(word) for word in text) # make a frequency distribution for word lengths\n",
    "most_frequent_length = fdist.max()\n",
    "\n"
   ],
   "outputs": [],
   "metadata": {}
  }
 ],
 "metadata": {
  "orig_nbformat": 4,
  "language_info": {
   "name": "python",
   "version": "3.8.5",
   "mimetype": "text/x-python",
   "codemirror_mode": {
    "name": "ipython",
    "version": 3
   },
   "pygments_lexer": "ipython3",
   "nbconvert_exporter": "python",
   "file_extension": ".py"
  },
  "kernelspec": {
   "name": "python3",
   "display_name": "Python 3.8.5 64-bit ('nlp': conda)"
  },
  "interpreter": {
   "hash": "3d54ba343dfa8ca332a78cfb32099f2924bc0bc0ad65024748ef4f58f2867aa2"
  }
 },
 "nbformat": 4,
 "nbformat_minor": 2
}