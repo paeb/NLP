{
 "cells": [
  {
   "cell_type": "code",
   "execution_count": null,
   "source": [
    "from nltk.corpus import PlaintextCorpusReader # to load our own collection of txt files"
   ],
   "outputs": [],
   "metadata": {}
  },
  {
   "cell_type": "code",
   "execution_count": null,
   "source": [
    "corpus_root = '/Users/brandonpae/Desktop/NLP/Texts'\n",
    "\n",
    "wordlists = PlaintextCorpusReader(corpus_root, '.*')\n",
    "wordlists.fileids()\n",
    "wordlists.words('connectives')"
   ],
   "outputs": [],
   "metadata": {}
  }
 ],
 "metadata": {
  "orig_nbformat": 4,
  "language_info": {
   "name": "python",
   "version": "3.8.5"
  },
  "kernelspec": {
   "name": "python3",
   "display_name": "Python 3.8.5 64-bit ('nlp': conda)"
  },
  "interpreter": {
   "hash": "3d54ba343dfa8ca332a78cfb32099f2924bc0bc0ad65024748ef4f58f2867aa2"
  }
 },
 "nbformat": 4,
 "nbformat_minor": 2
}