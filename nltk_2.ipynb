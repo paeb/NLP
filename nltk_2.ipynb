{
 "cells": [
  {
   "cell_type": "code",
   "execution_count": 2,
   "source": [
    "from nltk.corpus import PlaintextCorpusReader # to load our own collection of txt files"
   ],
   "outputs": [],
   "metadata": {}
  },
  {
   "cell_type": "code",
   "execution_count": 16,
   "source": [
    "corpus_root = '/Users/brandonpae/Desktop/NLP/Texts'\n",
    "\n",
    "wordlists = PlaintextCorpusReader(corpus_root, '.*')\n",
    "fileids = wordlists.fileids()\n",
    "words = wordlists.words('Tennis.txt')\n",
    "\n",
    "print(len(fileids))\n",
    "print(fileids)\n",
    "print(words)\n",
    "\n",
    "sents = wordlists.sents('Tennis.txt')\n",
    "print(sents)\n",
    "\n"
   ],
   "outputs": [
    {
     "output_type": "stream",
     "name": "stdout",
     "text": [
      "1\n",
      "['Tennis.txt']\n",
      "['this', 'is', 'an', 'example', 'text', 'for', 'NLP', ...]\n",
      "[['this', 'is', 'an', 'example', 'text', 'for', 'NLP', ',', 'for', 'loading', 'corpi', 'Brandon', 'is', 'so', 'good', 'at', 'tennis', '.'], ['In', 'fact', ',', 'he', \"'\", 's', 'so', 'fantastic', 'that', 'he', 'cannot', 'be', 'beaten', 'Why', 'is', 'brandon', 'so', 'good', 'at', 'tennis', '?'], ...]\n"
     ]
    }
   ],
   "metadata": {}
  }
 ],
 "metadata": {
  "orig_nbformat": 4,
  "language_info": {
   "name": "python",
   "version": "3.8.5",
   "mimetype": "text/x-python",
   "codemirror_mode": {
    "name": "ipython",
    "version": 3
   },
   "pygments_lexer": "ipython3",
   "nbconvert_exporter": "python",
   "file_extension": ".py"
  },
  "kernelspec": {
   "name": "python3",
   "display_name": "Python 3.8.5 64-bit ('nlp': conda)"
  },
  "interpreter": {
   "hash": "3d54ba343dfa8ca332a78cfb32099f2924bc0bc0ad65024748ef4f58f2867aa2"
  }
 },
 "nbformat": 4,
 "nbformat_minor": 2
}