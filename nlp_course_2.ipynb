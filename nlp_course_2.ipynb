{
 "cells": [
  {
   "cell_type": "code",
   "execution_count": 8,
   "source": [
    "# Python Text Basics\n",
    "\n",
    "# Using f-strings\n",
    "\n",
    "name = \"Brandonius III, Son of Sir Majesty Brandonius II\"\n",
    "\n",
    "print(f\"my name is {name}\") # basically the value inside the curly braces is substituted in\n",
    "\n",
    "library = [('Author', 'Topic', 'Pages'), ('Twain', 'Rafting', 601), ('Feynman', 'Physics', 95), ('Hamilton', 'Mythology', 144)]\n",
    "\n",
    "'''\n",
    "for book in library:\n",
    "    print(f\"Author is {book[0]}\")\n",
    "'''\n",
    "\n",
    "for book in library:\n",
    "    if book[1] != \"Topic\":\n",
    "        print(f\"Topic is {book[1]}\")\n",
    "\n",
    "for author,topic,page in library: # tuple unpacking -> author = idx 0, topic = idx 1, page = idx 2\n",
    "    print(f\"{author:{10}} {topic:{30}} {page:>{10}}\") # convenient way to pad spaces and format as table"
   ],
   "outputs": [
    {
     "output_type": "stream",
     "name": "stdout",
     "text": [
      "my name is Brandonius III, Son of Sir Majesty Brandonius II\n",
      "Topic is Rafting\n",
      "Topic is Physics\n",
      "Topic is Mythology\n",
      "Author     Topic                               Pages\n",
      "Twain      Rafting                               601\n",
      "Feynman    Physics                                95\n",
      "Hamilton   Mythology                             144\n"
     ]
    }
   ],
   "metadata": {}
  }
 ],
 "metadata": {
  "orig_nbformat": 4,
  "language_info": {
   "name": "python",
   "version": "3.7.11",
   "mimetype": "text/x-python",
   "codemirror_mode": {
    "name": "ipython",
    "version": 3
   },
   "pygments_lexer": "ipython3",
   "nbconvert_exporter": "python",
   "file_extension": ".py"
  },
  "kernelspec": {
   "name": "python3",
   "display_name": "Python 3.7.11 64-bit ('nlp_course': conda)"
  },
  "interpreter": {
   "hash": "4077d9a69ecd5951f678d6fd82802d0c00465e72849ac21c815b5d2793031db1"
  }
 },
 "nbformat": 4,
 "nbformat_minor": 2
}